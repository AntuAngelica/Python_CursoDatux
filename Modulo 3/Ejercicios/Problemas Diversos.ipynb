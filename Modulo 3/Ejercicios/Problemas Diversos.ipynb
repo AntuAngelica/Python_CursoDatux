{
 "cells": [
  {
   "cell_type": "markdown",
   "metadata": {},
   "source": [
    "# PROBLEMAS DIVERSOS"
   ]
  },
  {
   "cell_type": "markdown",
   "metadata": {},
   "source": [
    "<h3>1.</h3>\n",
    "Realizar una función que permita la carga de n alumnos. Por cada alumno se deberá preguntar el nombre completo y permitir el ingreso de 3 notas. Las notas deben estar comprendidas entre 0 y 10. Devolver el listado de alumnos."
   ]
  },
  {
   "cell_type": "code",
   "execution_count": null,
   "metadata": {},
   "outputs": [],
   "source": [
    "notas=[]"
   ]
  },
  {
   "cell_type": "code",
   "execution_count": null,
   "metadata": {},
   "outputs": [],
   "source": [
    "alumnos=[]"
   ]
  },
  {
   "cell_type": "code",
   "execution_count": null,
   "metadata": {},
   "outputs": [],
   "source": [
    "n=0"
   ]
  },
  {
   "cell_type": "code",
   "execution_count": null,
   "metadata": {},
   "outputs": [],
   "source": [
    "def ingresar_nombres():\n",
    "    global n\n",
    "    n=int(input(\"Ingrese cantidad de alumnos: \"))\n",
    "    for i in range(n):\n",
    "        nombre=input(\"Ingresar nombre del alumno: \")\n",
    "        nota1=int(input(\"Ingresar la primera nota: \"))\n",
    "        nota2=int(input(\"Ingresar la segunda nota: \"))\n",
    "        nota3=int(input(\"Ingresar la tercera nota: \"))\n",
    "        if nota1<0 and nota1>10:\n",
    "            nota1=input(\"Vuelva a ingresar nota 1: \")\n",
    "        if nota2<0 and nota2>10:\n",
    "            nota2=input(\"Vuelva a ingresar nota 2: \")\n",
    "        if nota3<0 and nota3>10:\n",
    "            nota3=input(\"Vuelva a ingresar nota 3: \")\n",
    "        alumnos.append(nombre)\n",
    "        notas.append([nota1,nota2,nota3])"
   ]
  },
  {
   "cell_type": "code",
   "execution_count": null,
   "metadata": {},
   "outputs": [],
   "source": [
    "def mostrar_alumnos():\n",
    "    for j in range(n):\n",
    "        print(alumnos[j],notas[j][0],notas[j][1],notas[j][2])"
   ]
  },
  {
   "cell_type": "code",
   "execution_count": null,
   "metadata": {},
   "outputs": [],
   "source": [
    "ingresar_nombres()"
   ]
  },
  {
   "cell_type": "code",
   "execution_count": null,
   "metadata": {},
   "outputs": [],
   "source": [
    "mostrar_alumnos()"
   ]
  },
  {
   "cell_type": "markdown",
   "metadata": {},
   "source": [
    "### 2.\n",
    "Definir una función que dado un listado de alumnos evalúe cuántos aprobaron y cuántos desaprobaron, teniendo en cuenta que se aprueba con 4. La nota será el promedio de las 3 notas para cada alumno."
   ]
  },
  {
   "cell_type": "code",
   "execution_count": null,
   "metadata": {},
   "outputs": [],
   "source": [
    "def aprobar_alumnos():\n",
    "    alu_desaprobado=0\n",
    "    alu_aprobado=0\n",
    "    for j in range(n):\n",
    "        suma=(notas[j][0]+notas[j][1]+notas[j][2])/3\n",
    "        if suma<4:\n",
    "            alu_desaprobado+=1\n",
    "        elif suma>=4 and suma<=10:\n",
    "            alu_aprobado+=1\n",
    "    print(\"La cantidad de alumnos desaprobados es: \",alu_desaprobado)\n",
    "    print(\"La cantidad de alumnos aprobados es: \",alu_aprobado)\n"
   ]
  },
  {
   "cell_type": "code",
   "execution_count": null,
   "metadata": {},
   "outputs": [],
   "source": [
    "aprobar_alumnos()"
   ]
  },
  {
   "cell_type": "markdown",
   "metadata": {},
   "source": [
    "### 3.\n",
    "Informar el promedio de nota del curso total."
   ]
  },
  {
   "cell_type": "code",
   "execution_count": null,
   "metadata": {},
   "outputs": [],
   "source": [
    "def promedio_total():\n",
    "    total=0\n",
    "    for j in range(n):\n",
    "        promedio_unitario=(notas[j][0]+notas[j][1]+notas[j][2])/3\n",
    "        total+=promedio_unitario\n",
    "    promedio=total/n\n",
    "    print(promedio)"
   ]
  },
  {
   "cell_type": "code",
   "execution_count": null,
   "metadata": {},
   "outputs": [],
   "source": [
    "promedio_total()"
   ]
  },
  {
   "cell_type": "markdown",
   "metadata": {},
   "source": [
    "### 4.\n",
    "Realizar una función que indique quién tuvo el promedio más alto y quién tuvo la nota promedio más baja."
   ]
  },
  {
   "cell_type": "code",
   "execution_count": null,
   "metadata": {},
   "outputs": [],
   "source": [
    "promedios=[]"
   ]
  },
  {
   "cell_type": "code",
   "execution_count": null,
   "metadata": {},
   "outputs": [],
   "source": [
    "def promedio_alto_bajo():\n",
    "    for j in range(n):\n",
    "        promedio=(notas[j][0]+notas[j][1]+notas[j][2])/3\n",
    "        promedios.append(promedio)\n",
    "    mayor=promedios[0]\n",
    "    for l in range(n):\n",
    "        if promedios[l]>mayor:\n",
    "            mayor=promedios[l]\n",
    "    print(\"El mayor promedio es: \",mayor)\n",
    "    menor=promedios[0]\n",
    "    for r in range(n):\n",
    "        if promedios[r]<menor:\n",
    "            menor=promedios[r]\n",
    "    print(\"El menor promedio es: \",menor)\n"
   ]
  },
  {
   "cell_type": "code",
   "execution_count": null,
   "metadata": {},
   "outputs": [],
   "source": [
    "promedio_alto_bajo()"
   ]
  },
  {
   "cell_type": "markdown",
   "metadata": {},
   "source": [
    "### 5.\n",
    "Realizar una función que permita buscar un alumno por nombre, siendo el nombre completo o parcial, y devuelva una lista con los n alumnos que concuerden con ese nombre junto con todos sus datos, incluido el promedio de sus notas."
   ]
  },
  {
   "cell_type": "code",
   "execution_count": null,
   "metadata": {},
   "outputs": [],
   "source": [
    "def buscar_alumno():\n",
    "    buscar_nombre=input(\"Ingrese nombre a buscar: \")\n",
    "    for i in range(n):\n",
    "        promedio=(notas[i][0]+notas[i][1]+notas[i][2])/3\n",
    "        promedios.append(promedio)\n",
    "        if buscar_nombre==alumnos[i]:\n",
    "            print(alumnos[i],notas[i][0],notas[i][1],notas[i][2],promedios[i])"
   ]
  },
  {
   "cell_type": "code",
   "execution_count": null,
   "metadata": {},
   "outputs": [],
   "source": [
    "buscar_alumno()  "
   ]
  }
 ],
 "metadata": {
  "kernelspec": {
   "display_name": "Python 3",
   "language": "python",
   "name": "python3"
  },
  "language_info": {
   "codemirror_mode": {
    "name": "ipython",
    "version": 3
   },
   "file_extension": ".py",
   "mimetype": "text/x-python",
   "name": "python",
   "nbconvert_exporter": "python",
   "pygments_lexer": "ipython3",
   "version": "3.8.5"
  }
 },
 "nbformat": 4,
 "nbformat_minor": 4
}
